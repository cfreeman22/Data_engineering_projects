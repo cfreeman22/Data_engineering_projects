{
 "cells": [
  {
   "cell_type": "markdown",
   "metadata": {},
   "source": [
    "## DATA WAREHOUSE TEST"
   ]
  },
  {
   "cell_type": "code",
   "execution_count": 1,
   "metadata": {},
   "outputs": [],
   "source": [
    "%load_ext sql"
   ]
  },
  {
   "cell_type": "code",
   "execution_count": 2,
   "metadata": {},
   "outputs": [],
   "source": [
    "import configparser\n",
    "import boto3\n",
    "#import create_redshift_cluster2"
   ]
  },
  {
   "cell_type": "markdown",
   "metadata": {},
   "source": [
    "### Creating a redshift Cluster"
   ]
  },
  {
   "cell_type": "code",
   "execution_count": 3,
   "metadata": {},
   "outputs": [
    {
     "name": "stdout",
     "output_type": "stream",
     "text": [
      "1.1 Creating a new IAM Role\n",
      "Creating Redshift cluster...\n",
      "Waiting for Redshift cluster to become available...\n",
      "Redshift cluster created and available\n",
      "Error updating security group: An error occurred (InvalidPermission.Duplicate) when calling the AuthorizeSecurityGroupIngress operation: the specified rule \"peer: 0.0.0.0/0, TCP, from port: 5439, to port: 5439, ALLOW\" already exists\n"
     ]
    }
   ],
   "source": [
    "!python3 redshift_create.py"
   ]
  },
  {
   "cell_type": "markdown",
   "metadata": {},
   "source": [
    "### Logging into the test database called Sparkify"
   ]
  },
  {
   "cell_type": "code",
   "execution_count": 4,
   "metadata": {},
   "outputs": [],
   "source": [
    "config = configparser.ConfigParser()\n",
    "config.read_file(open('dwh.cfg'))\n",
    "\n",
    "DWH_ENDPOINT= config.get(\"DWH\",\"HOST\")\n",
    "DWH_DB_USER= config.get(\"DWH\",\"DWH_DB_USER\")\n",
    "DWH_DB_PASSWORD= config.get(\"DWH\",\"DWH_DB_PASSWORD\")\n",
    "DWH_DB_PORT= config.get(\"DWH\",\"DWH_DB_PORT\")\n",
    "DWH_DB_NAME= config.get(\"DWH\",\"DWH_DB_NAME\")\n",
    "\n",
    "DWH_ROLE_ARN=config.get(\"IAM_ROLE\", \"ARN\")\n",
    "\n",
    "LOG_DATA = config.get(\"S3\", \"LOG_DATA\")\n",
    "LOG_JSONPATH = config.get(\"S3\", \"LOG_JSONPATH\")\n",
    "SONG_DATA = config.get(\"S3\", \"SONG_DATA\")\n"
   ]
  },
  {
   "cell_type": "code",
   "execution_count": 5,
   "metadata": {},
   "outputs": [
    {
     "data": {
      "text/plain": [
       "'Connected: awsuser@sparkify'"
      ]
     },
     "execution_count": 5,
     "metadata": {},
     "output_type": "execute_result"
    }
   ],
   "source": [
    "conn_string=\"postgresql://{}:{}@{}:{}/{}\".format(DWH_DB_USER, DWH_DB_PASSWORD, DWH_ENDPOINT, DWH_DB_PORT, DWH_DB_NAME)\n",
    "%sql $conn_string"
   ]
  },
  {
   "cell_type": "markdown",
   "metadata": {},
   "source": [
    "### Creating tables"
   ]
  },
  {
   "cell_type": "code",
   "execution_count": 6,
   "metadata": {},
   "outputs": [],
   "source": [
    "!python3 create_tables.py"
   ]
  },
  {
   "cell_type": "markdown",
   "metadata": {},
   "source": [
    "### Running The ETL pipeline"
   ]
  },
  {
   "cell_type": "code",
   "execution_count": 7,
   "metadata": {},
   "outputs": [],
   "source": [
    "!python3 etl.py"
   ]
  },
  {
   "cell_type": "markdown",
   "metadata": {},
   "source": [
    "### Testing  random Custom queries\n",
    "- 1 Retrieve the distinct artists and their corresponding locations from the artists table\n",
    "- 2 Find the total number of songs in the songs table\n",
    "- 3 Get the top 10 usersid with the highest number of song plays from the songplays table\n",
    "- 4 Find the average length of songs by gender\n",
    "- 5 Find the average song duration in minutes from the songs table"
   ]
  },
  {
   "cell_type": "code",
   "execution_count": 8,
   "metadata": {},
   "outputs": [
    {
     "name": "stdout",
     "output_type": "stream",
     "text": [
      "+--------------------+----------------------------+\n",
      "|     artist_id      |          location          |\n",
      "+--------------------+----------------------------+\n",
      "| ARBLQL41187B99784F |                            |\n",
      "| ARTM6SK1187B9B804D |     Dongo Buti, Niger      |\n",
      "| ARJEAL11187B9A876B |    Mandeville, Jamaica     |\n",
      "| ARE2G8K1187FB53219 |                            |\n",
      "| AR0L04E1187B9AE90C | Wigan, Lancashire, England |\n",
      "+--------------------+----------------------------+\n",
      "+-------------+\n",
      "| total_songs |\n",
      "+-------------+\n",
      "|    14896    |\n",
      "+-------------+\n",
      "+---------+-----------------+\n",
      "| user_id | songplays_count |\n",
      "+---------+-----------------+\n",
      "|    49   |        42       |\n",
      "|    97   |        32       |\n",
      "|    80   |        31       |\n",
      "|    44   |        21       |\n",
      "|    73   |        18       |\n",
      "|    88   |        17       |\n",
      "|    15   |        15       |\n",
      "|    29   |        13       |\n",
      "|    24   |        13       |\n",
      "|    36   |        13       |\n",
      "+---------+-----------------+\n",
      "+--------+---------------------+\n",
      "| gender | average_song_length |\n",
      "+--------+---------------------+\n",
      "|   F    |   250.253290988372  |\n",
      "|   M    |   253.946086917293  |\n",
      "+--------+---------------------+\n",
      "+--------------------------+\n",
      "| average_duration_minutes |\n",
      "+--------------------------+\n",
      "|     4.11298995882564     |\n",
      "+--------------------------+\n"
     ]
    }
   ],
   "source": [
    "!python3 test_queries.py\n"
   ]
  },
  {
   "cell_type": "code",
   "execution_count": null,
   "metadata": {},
   "outputs": [],
   "source": []
  }
 ],
 "metadata": {
  "kernelspec": {
   "display_name": "Python 3",
   "language": "python",
   "name": "python3"
  },
  "language_info": {
   "codemirror_mode": {
    "name": "ipython",
    "version": 3
   },
   "file_extension": ".py",
   "mimetype": "text/x-python",
   "name": "python",
   "nbconvert_exporter": "python",
   "pygments_lexer": "ipython3",
   "version": "3.6.3"
  }
 },
 "nbformat": 4,
 "nbformat_minor": 2
}
